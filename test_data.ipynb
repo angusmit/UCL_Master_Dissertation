{
 "cells": [
  {
   "cell_type": "code",
   "execution_count": 132,
   "metadata": {
    "collapsed": true
   },
   "outputs": [],
   "source": [
    "import pandas as pd\n",
    "import numpy as np\n",
    "from matplotlib import pyplot as plt"
   ]
  },
  {
   "cell_type": "code",
   "execution_count": 133,
   "outputs": [],
   "source": [
    "#brent oil\n",
    "#https://www.kaggle.com/datasets/mabusalah/brent-oil-prices\n",
    "#05/1987 - 11/2022\n",
    "df = pd.read_csv(\"BrentOilPrices.csv\")"
   ],
   "metadata": {
    "collapsed": false
   }
  },
  {
   "cell_type": "code",
   "execution_count": 134,
   "outputs": [
    {
     "data": {
      "text/plain": "0       18.63\n1       18.45\n2       18.55\n3       18.60\n4       18.63\n        ...  \n9006    96.85\n9007    93.05\n9008    94.25\n9009    96.37\n9010    93.59\nName: Price, Length: 9011, dtype: float64"
     },
     "execution_count": 134,
     "metadata": {},
     "output_type": "execute_result"
    }
   ],
   "source": [
    "df.Price"
   ],
   "metadata": {
    "collapsed": false
   }
  },
  {
   "cell_type": "code",
   "execution_count": 135,
   "outputs": [],
   "source": [
    "def estimate_python(data, k=5):\n",
    "    \"A slow pure python implementation\"\n",
    "    prices = data['Price'].to_numpy(dtype=np.float64)\n",
    "    log_prices = np.log(prices)\n",
    "    rets = np.diff(log_prices)\n",
    "    T = len(rets)\n",
    "    mu = np.mean(rets)\n",
    "    var_1 = np.var(rets, ddof=1, dtype=np.float64)\n",
    "    rets_k = (log_prices - np.roll(log_prices, k))[k:]\n",
    "    m = k * (T - k + 1) * (1 - k / T)\n",
    "    var_k = 1/m * np.sum(np.square(rets_k - k * mu))\n",
    "\n",
    "    # Variance Ratio\n",
    "    vr = var_k / var_1\n",
    "    # Phi1\n",
    "    phi1 = 2 * (2*k - 1) * (k-1) / (3*k*T)\n",
    "    # Phi2\n",
    "\n",
    "    def delta(j):\n",
    "        res = 0\n",
    "        for t in range(j+1, T+1):\n",
    "            t -= 1  # array index is t-1 for t-th element\n",
    "            res += np.square((rets[t]-mu)*(rets[t-j]-mu))\n",
    "        return res / ((T-1) * var_1)**2\n",
    "\n",
    "    phi2 = 0\n",
    "    for j in range(1, k):\n",
    "        phi2 += (2*(k-j)/k)**2 * delta(j)\n",
    "\n",
    "    return vr, (vr - 1) / np.sqrt(phi1), (vr - 1) / np.sqrt(phi2)\n"
   ],
   "metadata": {
    "collapsed": false
   }
  },
  {
   "cell_type": "code",
   "execution_count": 136,
   "outputs": [
    {
     "data": {
      "text/plain": "(0.9491134212400386, -1.4305835369325148, -0.4278414051495417)"
     },
     "execution_count": 136,
     "metadata": {},
     "output_type": "execute_result"
    }
   ],
   "source": [
    "estimate_python(df,k=10)"
   ],
   "metadata": {
    "collapsed": false
   }
  },
  {
   "cell_type": "code",
   "execution_count": 137,
   "outputs": [],
   "source": [
    "# LoMacKinlay.py\n",
    "import numpy as np\n",
    "from numba import jit\n",
    "\n",
    "name = 'LoMacKinlay1988'\n",
    "description = 'Variance ratio and test statistics as in Lo and MacKinlay (1988)'\n",
    "vars_needed = ['Price']\n",
    "\n",
    "\n",
    "@jit(nopython=True, nogil=True, cache=True)\n",
    "def _estimate(log_prices, k, const_arr):\n",
    "    # Log returns = [x2, x3, x4, ..., xT], where x(i)=ln[p(i)/p(i-1)]\n",
    "    rets = np.diff(log_prices)\n",
    "    # T is the length of return series\n",
    "    T = len(rets)\n",
    "    # mu is the mean log return\n",
    "    mu = np.mean(rets)\n",
    "    # sqr_demeaned_x is the array of squared demeaned log returns\n",
    "    sqr_demeaned_x = np.square(rets - mu)\n",
    "    # Var_1\n",
    "    # Didn't use np.var(rets, ddof=1) because\n",
    "    # sqr_demeaned_x is calculated already and will be used many times.\n",
    "    var_1 = np.sum(sqr_demeaned_x) / (T-1)\n",
    "    # Var_k\n",
    "    # Variance of log returns where x(i) = ln[p(i)/p(i-k)]\n",
    "    # Before np.roll() - array([0, 1, 2, 3, 4, 5, 6, 7, 8, 9])\n",
    "    # After np.roll(,shift=2) - array([8, 9, 0, 1, 2, 3, 4, 5, 6, 7])\n",
    "    # Discard the first k elements.\n",
    "    rets_k = (log_prices - np.roll(log_prices, k))[k:]\n",
    "    m = k * (T - k + 1) * (1 - k / T)\n",
    "    var_k = 1/m * np.sum(np.square(rets_k - k * mu))\n",
    "\n",
    "    # Variance Ratio\n",
    "    vr = var_k / var_1\n",
    "\n",
    "    # a_arr is an array of { (2*(k-j)/k)^2 } for j=1,2,...,k-1, fixed for a given k:\n",
    "    #   When k=5, a_arr = array([2.56, 1.44, 0.64, 0.16]).\n",
    "    #   When k=8, a_arr = array([3.0625, 2.25, 1.5625, 1., 0.5625, 0.25, 0.0625])\n",
    "    # Without JIT it's defined as:\n",
    "    #   a_arr = np.square(np.arange(k-1, 0, step=-1, dtype=np.int) * 2 / k)\n",
    "    # But np.array creation is not allowed in nopython mode.\n",
    "    # So const_arr=np.arange(k-1, 0, step=-1, dtype=np.int) is created outside.\n",
    "    a_arr = np.square(const_arr * 2 / k)\n",
    "\n",
    "    # b_arr is part of the delta_arr.\n",
    "    b_arr = np.empty(k-1, dtype=np.float64)\n",
    "    for j in range(1, k):\n",
    "        b_arr[j-1] = np.sum((sqr_demeaned_x *\n",
    "                             np.roll(sqr_demeaned_x, j))[j:]) #\n",
    "\n",
    "    delta_arr = b_arr / np.square(np.sum(sqr_demeaned_x))\n",
    "\n",
    "    # Both arrarys are of length (k-1)\n",
    "    assert len(delta_arr) == len(a_arr) == k-1\n",
    "\n",
    "    phi1 = 2 * (2*k - 1) * (k-1) / (3*k*T)\n",
    "    phi2 = np.sum(a_arr * delta_arr)\n",
    "\n",
    "    # VR test statistics under two assumptions\n",
    "    vr_stat_homoscedasticity = (vr - 1) / np.sqrt(phi1)\n",
    "    vr_stat_heteroscedasticity = (vr - 1) / np.sqrt(phi2)\n",
    "\n",
    "    return vr, vr_stat_homoscedasticity, vr_stat_heteroscedasticity\n",
    "\n",
    "\n",
    "def estimate(data):\n",
    "    \"A fast estimation of Variance Ratio test statistics as in Lo and MacKinlay (1988)\"\n",
    "    # Prices array = [p1, p2, p3, p4, ..., pT]\n",
    "    prices = data['Price'].to_numpy(dtype=np.float64)\n",
    "    result = []\n",
    "    # Estimate many lags.\n",
    "    for k in [2, 4, 6, 8, 10, 15, 20, 30, 40, 50, 100, 200, 500, 1000]:\n",
    "        # Compute a constant array as np.array creation is not allowed in nopython mode.\n",
    "        const_arr = np.arange(k-1, 0, step=-1, dtype=np.int64) #\n",
    "        vr, stat1, stat2 = _estimate(np.log(prices), k, const_arr)\n",
    "        result.append({\n",
    "            f'Variance Ratio (k={k})': vr,\n",
    "            f'Variance Ratio Test Statistic (k={k}) Homoscedasticity Assumption': stat1,\n",
    "            f'Variance Ratio Test Statistic (k={k}) Heteroscedasticity Assumption': stat2\n",
    "        })\n",
    "    return result\n"
   ],
   "metadata": {
    "collapsed": false
   }
  },
  {
   "cell_type": "code",
   "execution_count": 138,
   "outputs": [
    {
     "name": "stdout",
     "output_type": "stream",
     "text": [
      "[{'Variance Ratio (k=2)': 0.9863036638632829, 'Variance Ratio Test Statistic (k=2) Homoscedasticity Assumption': -1.3000701936300108, 'Variance Ratio Test Statistic (k=2) Heteroscedasticity Assumption': -0.2581599333100608}, {'Variance Ratio (k=4)': 0.9596750310053007, 'Variance Ratio Test Statistic (k=4) Homoscedasticity Assumption': -2.04598485897591, 'Variance Ratio Test Statistic (k=4) Heteroscedasticity Assumption': -0.4819108527305605}, {'Variance Ratio (k=6)': 0.9504636407301068, 'Variance Ratio Test Statistic (k=6) Homoscedasticity Assumption': -1.902069536282974, 'Variance Ratio Test Statistic (k=6) Heteroscedasticity Assumption': -0.5051587903539871}, {'Variance Ratio (k=8)': 0.9390234274892248, 'Variance Ratio Test Statistic (k=8) Homoscedasticity Assumption': -1.956687082958861, 'Variance Ratio Test Statistic (k=8) Heteroscedasticity Assumption': -0.5580480747908017}, {'Variance Ratio (k=10)': 0.9491134212400385, 'Variance Ratio Test Statistic (k=10) Homoscedasticity Assumption': -1.430583536932518, 'Variance Ratio Test Statistic (k=10) Heteroscedasticity Assumption': -0.4278414051495418}, {'Variance Ratio (k=15)': 0.9669288419271609, 'Variance Ratio Test Statistic (k=15) Homoscedasticity Assumption': -0.7389925171986657, 'Variance Ratio Test Statistic (k=15) Heteroscedasticity Assumption': -0.23449629687452697}, {'Variance Ratio (k=20)': 1.0177838571447029, 'Variance Ratio Test Statistic (k=20) Homoscedasticity Assumption': 0.3396564607742317, 'Variance Ratio Test Statistic (k=20) Heteroscedasticity Assumption': 0.11086355382131574}, {'Variance Ratio (k=30)': 1.0726821121225858, 'Variance Ratio Test Statistic (k=30) Homoscedasticity Assumption': 1.1188482499539554, 'Variance Ratio Test Statistic (k=30) Heteroscedasticity Assumption': 0.3848981140504495}, {'Variance Ratio (k=40)': 1.0918989210248715, 'Variance Ratio Test Statistic (k=40) Homoscedasticity Assumption': 1.2173139080227173, 'Variance Ratio Test Statistic (k=40) Heteroscedasticity Assumption': 0.4385002042194043}, {'Variance Ratio (k=50)': 1.0872731242411489, 'Variance Ratio Test Statistic (k=50) Homoscedasticity Assumption': 1.030049067250601, 'Variance Ratio Test Statistic (k=50) Heteroscedasticity Assumption': 0.3870884545863557}, {'Variance Ratio (k=100)': 1.0120947906348134, 'Variance Ratio Test Statistic (k=100) Homoscedasticity Assumption': 0.10017566739300098, 'Variance Ratio Test Statistic (k=100) Heteroscedasticity Assumption': 0.044687434564048924}, {'Variance Ratio (k=200)': 0.8191963919199471, 'Variance Ratio Test Statistic (k=200) Homoscedasticity Assumption': -1.0549141790993264, 'Variance Ratio Test Statistic (k=200) Heteroscedasticity Assumption': -0.5759296240224384}, {'Variance Ratio (k=500)': 0.6885289412428358, 'Variance Ratio Test Statistic (k=500) Homoscedasticity Assumption': -1.1467736605788668, 'Variance Ratio Test Statistic (k=500) Heteroscedasticity Assumption': -0.8090526628176827}, {'Variance Ratio (k=1000)': 0.4377266699425734, 'Variance Ratio Test Statistic (k=1000) Homoscedasticity Assumption': -1.4627374082363962, 'Variance Ratio Test Statistic (k=1000) Heteroscedasticity Assumption': -1.2085623488611092}]\n"
     ]
    }
   ],
   "source": [
    "res = estimate(df)\n",
    "print(res)"
   ],
   "metadata": {
    "collapsed": false
   }
  },
  {
   "cell_type": "markdown",
   "source": [
    "observation: k increases, variance ratio decreases"
   ],
   "metadata": {
    "collapsed": false
   }
  },
  {
   "cell_type": "code",
   "execution_count": 139,
   "outputs": [
    {
     "data": {
      "text/plain": "           Date  Price\n3710 2002-01-02  20.13\n3711 2002-01-03  20.47\n3712 2002-01-04  21.20\n3713 2002-01-07  21.08\n3714 2002-01-08  21.03\n...         ...    ...\n4868 2006-07-03  73.94\n4869 2006-07-04  73.17\n4870 2006-07-05  72.88\n4871 2006-07-06  73.12\n4872 2006-07-07  74.14\n\n[1163 rows x 2 columns]",
      "text/html": "<div>\n<style scoped>\n    .dataframe tbody tr th:only-of-type {\n        vertical-align: middle;\n    }\n\n    .dataframe tbody tr th {\n        vertical-align: top;\n    }\n\n    .dataframe thead th {\n        text-align: right;\n    }\n</style>\n<table border=\"1\" class=\"dataframe\">\n  <thead>\n    <tr style=\"text-align: right;\">\n      <th></th>\n      <th>Date</th>\n      <th>Price</th>\n    </tr>\n  </thead>\n  <tbody>\n    <tr>\n      <th>3710</th>\n      <td>2002-01-02</td>\n      <td>20.13</td>\n    </tr>\n    <tr>\n      <th>3711</th>\n      <td>2002-01-03</td>\n      <td>20.47</td>\n    </tr>\n    <tr>\n      <th>3712</th>\n      <td>2002-01-04</td>\n      <td>21.20</td>\n    </tr>\n    <tr>\n      <th>3713</th>\n      <td>2002-01-07</td>\n      <td>21.08</td>\n    </tr>\n    <tr>\n      <th>3714</th>\n      <td>2002-01-08</td>\n      <td>21.03</td>\n    </tr>\n    <tr>\n      <th>...</th>\n      <td>...</td>\n      <td>...</td>\n    </tr>\n    <tr>\n      <th>4868</th>\n      <td>2006-07-03</td>\n      <td>73.94</td>\n    </tr>\n    <tr>\n      <th>4869</th>\n      <td>2006-07-04</td>\n      <td>73.17</td>\n    </tr>\n    <tr>\n      <th>4870</th>\n      <td>2006-07-05</td>\n      <td>72.88</td>\n    </tr>\n    <tr>\n      <th>4871</th>\n      <td>2006-07-06</td>\n      <td>73.12</td>\n    </tr>\n    <tr>\n      <th>4872</th>\n      <td>2006-07-07</td>\n      <td>74.14</td>\n    </tr>\n  </tbody>\n</table>\n<p>1163 rows × 2 columns</p>\n</div>"
     },
     "execution_count": 139,
     "metadata": {},
     "output_type": "execute_result"
    }
   ],
   "source": [
    "import seaborn as sns\n",
    "#January 2, 2002–July 7, 2006???\n",
    "startdate = '2002-01-02'\n",
    "enddate = '2006-07-07'\n",
    "df['Date'] = pd.to_datetime(df['Date'])\n",
    "df = df[(df.Date >= startdate) & (df.Date <= enddate)]\n",
    "#plt.plot(df.Date,df.Price)\n",
    "#df['Delta'] = df.Price.diff()\n",
    "df = df.iloc[:,1:]\n",
    "df"
   ],
   "metadata": {
    "collapsed": false
   }
  },
  {
   "cell_type": "code",
   "execution_count": 148,
   "outputs": [
    {
     "data": {
      "text/plain": "                Price    Return  Log_return\nDate                                       \n2002-01-31  19.416818 -0.050476   -0.002576\n2002-02-28  20.275500  0.083000    0.004173\n2002-03-31  23.696667  0.219524    0.009562\n2002-04-30  25.728636  0.074545    0.002851\n2002-05-31  25.345455 -0.141364   -0.005567\n2002-06-30  24.081667  0.081111    0.003298\n2002-07-31  25.736087  0.041304    0.001601\n2002-08-31  26.651364  0.058182    0.002162\n2002-09-30  28.399524  0.073810    0.002606\n2002-10-31  27.543043 -0.156522   -0.005740\n2002-11-30  24.335238  0.010952    0.000427\n2002-12-31  28.334500  0.219000    0.007857\n2003-01-31  31.183636  0.065909    0.002137\n2003-02-28  32.771000  0.121500    0.003708\n2003-03-31  30.612381 -0.283333   -0.009161\n2003-04-30  25.067727 -0.202273   -0.007852\n2003-05-31  25.857727  0.135455    0.005405\n2003-06-30  27.652857  0.109524    0.003952\n2003-07-31  28.348696 -0.008696   -0.000302\n2003-08-31  29.888095  0.080952    0.002742\n2003-09-30  27.112273 -0.104091   -0.003562\n2003-10-31  29.607826 -0.009130   -0.000326\n2003-11-30  28.752500  0.053500    0.001883\n2003-12-31  29.807143  0.064286    0.002170\n2004-01-31  31.280952 -0.036667   -0.001226\n2004-02-29  30.858500  0.170500    0.005464\n2004-03-31  33.634348 -0.028261   -0.000867\n2004-04-30  33.590909  0.133636    0.003961\n2004-05-31  37.567619  0.084286    0.002334\n2004-06-30  35.183636 -0.171818   -0.004898\n2004-07-31  38.221364  0.375000    0.010083\n2004-08-31  42.744091 -0.075909   -0.001868\n2004-09-30  43.196818  0.361818    0.008287\n2004-10-31  49.776667  0.019048    0.000397\n2004-11-30  43.110455 -0.178636   -0.003869\n2004-12-31  39.602174 -0.167391   -0.003960\n2005-01-31  44.509000  0.206500    0.004869\n2005-02-28  45.475000  0.281000    0.005945\n2005-03-31  53.104545  0.140455    0.002719\n2005-04-30  51.883810 -0.124286   -0.002395\n2005-05-31  48.645455 -0.059545   -0.001192\n2005-06-30  54.354545  0.275455    0.005270\n2005-07-31  57.520000  0.210000    0.003650\n2005-08-31  63.983478  0.305652    0.004835\n2005-09-30  62.908182 -0.231818   -0.003610\n2005-10-31  58.538571 -0.153810   -0.002560\n2005-11-30  55.241818 -0.237273   -0.004251\n2005-12-31  56.855714  0.242381    0.004347\n2006-01-31  62.985238  0.230952    0.003803\n2006-02-28  60.210000 -0.170500   -0.002774\n2006-03-31  62.064783  0.273043    0.004343\n2006-04-30  70.260000  0.338333    0.004899\n2006-05-31  69.776957 -0.199130   -0.002851\n2006-06-30  68.555909  0.255909    0.003638\n2006-07-31  73.450000  0.188000    0.002552",
      "text/html": "<div>\n<style scoped>\n    .dataframe tbody tr th:only-of-type {\n        vertical-align: middle;\n    }\n\n    .dataframe tbody tr th {\n        vertical-align: top;\n    }\n\n    .dataframe thead th {\n        text-align: right;\n    }\n</style>\n<table border=\"1\" class=\"dataframe\">\n  <thead>\n    <tr style=\"text-align: right;\">\n      <th></th>\n      <th>Price</th>\n      <th>Return</th>\n      <th>Log_return</th>\n    </tr>\n    <tr>\n      <th>Date</th>\n      <th></th>\n      <th></th>\n      <th></th>\n    </tr>\n  </thead>\n  <tbody>\n    <tr>\n      <th>2002-01-31</th>\n      <td>19.416818</td>\n      <td>-0.050476</td>\n      <td>-0.002576</td>\n    </tr>\n    <tr>\n      <th>2002-02-28</th>\n      <td>20.275500</td>\n      <td>0.083000</td>\n      <td>0.004173</td>\n    </tr>\n    <tr>\n      <th>2002-03-31</th>\n      <td>23.696667</td>\n      <td>0.219524</td>\n      <td>0.009562</td>\n    </tr>\n    <tr>\n      <th>2002-04-30</th>\n      <td>25.728636</td>\n      <td>0.074545</td>\n      <td>0.002851</td>\n    </tr>\n    <tr>\n      <th>2002-05-31</th>\n      <td>25.345455</td>\n      <td>-0.141364</td>\n      <td>-0.005567</td>\n    </tr>\n    <tr>\n      <th>2002-06-30</th>\n      <td>24.081667</td>\n      <td>0.081111</td>\n      <td>0.003298</td>\n    </tr>\n    <tr>\n      <th>2002-07-31</th>\n      <td>25.736087</td>\n      <td>0.041304</td>\n      <td>0.001601</td>\n    </tr>\n    <tr>\n      <th>2002-08-31</th>\n      <td>26.651364</td>\n      <td>0.058182</td>\n      <td>0.002162</td>\n    </tr>\n    <tr>\n      <th>2002-09-30</th>\n      <td>28.399524</td>\n      <td>0.073810</td>\n      <td>0.002606</td>\n    </tr>\n    <tr>\n      <th>2002-10-31</th>\n      <td>27.543043</td>\n      <td>-0.156522</td>\n      <td>-0.005740</td>\n    </tr>\n    <tr>\n      <th>2002-11-30</th>\n      <td>24.335238</td>\n      <td>0.010952</td>\n      <td>0.000427</td>\n    </tr>\n    <tr>\n      <th>2002-12-31</th>\n      <td>28.334500</td>\n      <td>0.219000</td>\n      <td>0.007857</td>\n    </tr>\n    <tr>\n      <th>2003-01-31</th>\n      <td>31.183636</td>\n      <td>0.065909</td>\n      <td>0.002137</td>\n    </tr>\n    <tr>\n      <th>2003-02-28</th>\n      <td>32.771000</td>\n      <td>0.121500</td>\n      <td>0.003708</td>\n    </tr>\n    <tr>\n      <th>2003-03-31</th>\n      <td>30.612381</td>\n      <td>-0.283333</td>\n      <td>-0.009161</td>\n    </tr>\n    <tr>\n      <th>2003-04-30</th>\n      <td>25.067727</td>\n      <td>-0.202273</td>\n      <td>-0.007852</td>\n    </tr>\n    <tr>\n      <th>2003-05-31</th>\n      <td>25.857727</td>\n      <td>0.135455</td>\n      <td>0.005405</td>\n    </tr>\n    <tr>\n      <th>2003-06-30</th>\n      <td>27.652857</td>\n      <td>0.109524</td>\n      <td>0.003952</td>\n    </tr>\n    <tr>\n      <th>2003-07-31</th>\n      <td>28.348696</td>\n      <td>-0.008696</td>\n      <td>-0.000302</td>\n    </tr>\n    <tr>\n      <th>2003-08-31</th>\n      <td>29.888095</td>\n      <td>0.080952</td>\n      <td>0.002742</td>\n    </tr>\n    <tr>\n      <th>2003-09-30</th>\n      <td>27.112273</td>\n      <td>-0.104091</td>\n      <td>-0.003562</td>\n    </tr>\n    <tr>\n      <th>2003-10-31</th>\n      <td>29.607826</td>\n      <td>-0.009130</td>\n      <td>-0.000326</td>\n    </tr>\n    <tr>\n      <th>2003-11-30</th>\n      <td>28.752500</td>\n      <td>0.053500</td>\n      <td>0.001883</td>\n    </tr>\n    <tr>\n      <th>2003-12-31</th>\n      <td>29.807143</td>\n      <td>0.064286</td>\n      <td>0.002170</td>\n    </tr>\n    <tr>\n      <th>2004-01-31</th>\n      <td>31.280952</td>\n      <td>-0.036667</td>\n      <td>-0.001226</td>\n    </tr>\n    <tr>\n      <th>2004-02-29</th>\n      <td>30.858500</td>\n      <td>0.170500</td>\n      <td>0.005464</td>\n    </tr>\n    <tr>\n      <th>2004-03-31</th>\n      <td>33.634348</td>\n      <td>-0.028261</td>\n      <td>-0.000867</td>\n    </tr>\n    <tr>\n      <th>2004-04-30</th>\n      <td>33.590909</td>\n      <td>0.133636</td>\n      <td>0.003961</td>\n    </tr>\n    <tr>\n      <th>2004-05-31</th>\n      <td>37.567619</td>\n      <td>0.084286</td>\n      <td>0.002334</td>\n    </tr>\n    <tr>\n      <th>2004-06-30</th>\n      <td>35.183636</td>\n      <td>-0.171818</td>\n      <td>-0.004898</td>\n    </tr>\n    <tr>\n      <th>2004-07-31</th>\n      <td>38.221364</td>\n      <td>0.375000</td>\n      <td>0.010083</td>\n    </tr>\n    <tr>\n      <th>2004-08-31</th>\n      <td>42.744091</td>\n      <td>-0.075909</td>\n      <td>-0.001868</td>\n    </tr>\n    <tr>\n      <th>2004-09-30</th>\n      <td>43.196818</td>\n      <td>0.361818</td>\n      <td>0.008287</td>\n    </tr>\n    <tr>\n      <th>2004-10-31</th>\n      <td>49.776667</td>\n      <td>0.019048</td>\n      <td>0.000397</td>\n    </tr>\n    <tr>\n      <th>2004-11-30</th>\n      <td>43.110455</td>\n      <td>-0.178636</td>\n      <td>-0.003869</td>\n    </tr>\n    <tr>\n      <th>2004-12-31</th>\n      <td>39.602174</td>\n      <td>-0.167391</td>\n      <td>-0.003960</td>\n    </tr>\n    <tr>\n      <th>2005-01-31</th>\n      <td>44.509000</td>\n      <td>0.206500</td>\n      <td>0.004869</td>\n    </tr>\n    <tr>\n      <th>2005-02-28</th>\n      <td>45.475000</td>\n      <td>0.281000</td>\n      <td>0.005945</td>\n    </tr>\n    <tr>\n      <th>2005-03-31</th>\n      <td>53.104545</td>\n      <td>0.140455</td>\n      <td>0.002719</td>\n    </tr>\n    <tr>\n      <th>2005-04-30</th>\n      <td>51.883810</td>\n      <td>-0.124286</td>\n      <td>-0.002395</td>\n    </tr>\n    <tr>\n      <th>2005-05-31</th>\n      <td>48.645455</td>\n      <td>-0.059545</td>\n      <td>-0.001192</td>\n    </tr>\n    <tr>\n      <th>2005-06-30</th>\n      <td>54.354545</td>\n      <td>0.275455</td>\n      <td>0.005270</td>\n    </tr>\n    <tr>\n      <th>2005-07-31</th>\n      <td>57.520000</td>\n      <td>0.210000</td>\n      <td>0.003650</td>\n    </tr>\n    <tr>\n      <th>2005-08-31</th>\n      <td>63.983478</td>\n      <td>0.305652</td>\n      <td>0.004835</td>\n    </tr>\n    <tr>\n      <th>2005-09-30</th>\n      <td>62.908182</td>\n      <td>-0.231818</td>\n      <td>-0.003610</td>\n    </tr>\n    <tr>\n      <th>2005-10-31</th>\n      <td>58.538571</td>\n      <td>-0.153810</td>\n      <td>-0.002560</td>\n    </tr>\n    <tr>\n      <th>2005-11-30</th>\n      <td>55.241818</td>\n      <td>-0.237273</td>\n      <td>-0.004251</td>\n    </tr>\n    <tr>\n      <th>2005-12-31</th>\n      <td>56.855714</td>\n      <td>0.242381</td>\n      <td>0.004347</td>\n    </tr>\n    <tr>\n      <th>2006-01-31</th>\n      <td>62.985238</td>\n      <td>0.230952</td>\n      <td>0.003803</td>\n    </tr>\n    <tr>\n      <th>2006-02-28</th>\n      <td>60.210000</td>\n      <td>-0.170500</td>\n      <td>-0.002774</td>\n    </tr>\n    <tr>\n      <th>2006-03-31</th>\n      <td>62.064783</td>\n      <td>0.273043</td>\n      <td>0.004343</td>\n    </tr>\n    <tr>\n      <th>2006-04-30</th>\n      <td>70.260000</td>\n      <td>0.338333</td>\n      <td>0.004899</td>\n    </tr>\n    <tr>\n      <th>2006-05-31</th>\n      <td>69.776957</td>\n      <td>-0.199130</td>\n      <td>-0.002851</td>\n    </tr>\n    <tr>\n      <th>2006-06-30</th>\n      <td>68.555909</td>\n      <td>0.255909</td>\n      <td>0.003638</td>\n    </tr>\n    <tr>\n      <th>2006-07-31</th>\n      <td>73.450000</td>\n      <td>0.188000</td>\n      <td>0.002552</td>\n    </tr>\n  </tbody>\n</table>\n</div>"
     },
     "execution_count": 148,
     "metadata": {},
     "output_type": "execute_result"
    }
   ],
   "source": [
    "df.resample('M', on='Date').mean()\n",
    "plt.plot(df.)"
   ],
   "metadata": {
    "collapsed": false
   }
  },
  {
   "cell_type": "code",
   "execution_count": 142,
   "outputs": [
    {
     "data": {
      "text/plain": "0.001121982752212466"
     },
     "execution_count": 142,
     "metadata": {},
     "output_type": "execute_result"
    },
    {
     "data": {
      "text/plain": "<Figure size 432x288 with 1 Axes>",
      "image/png": "[encoded data removed]"
     },
     "metadata": {
      "needs_background": "light"
     },
     "output_type": "display_data"
    }
   ],
   "source": [
    "ax = df.plot(kind='line', x='Date', y='Price')\n",
    "df['Return'] = df.Price.diff()\n",
    "df['Log_return'] = np.log(df.Price).diff()\n",
    "np.mean(df.Log_return)\n",
    "np.st"
   ],
   "metadata": {
    "collapsed": false
   }
  },
  {
   "cell_type": "code",
   "execution_count": 141,
   "outputs": [
    {
     "name": "stdout",
     "output_type": "stream",
     "text": [
      "(-0.13704379184529206, 0.945621533167043, 0, 1162, {'1%': -3.4359901072390353, '5%': -2.86403051064684, '10%': -2.5680960046332366}, 2993.3481045495255)\n"
     ]
    }
   ],
   "source": [
    "import statsmodels.tsa.stattools as ts\n",
    "adf = ts.adfuller(df.Price, 1)\n",
    "print(adf)"
   ],
   "metadata": {
    "collapsed": false
   }
  },
  {
   "cell_type": "code",
   "execution_count": 123,
   "outputs": [],
   "source": [],
   "metadata": {
    "collapsed": false
   }
  },
  {
   "cell_type": "code",
   "execution_count": 79,
   "outputs": [],
   "source": [],
   "metadata": {
    "collapsed": false
   }
  }
 ],
 "metadata": {
  "kernelspec": {
   "display_name": "Python 3",
   "language": "python",
   "name": "python3"
  },
  "language_info": {
   "codemirror_mode": {
    "name": "ipython",
    "version": 2
   },
   "file_extension": ".py",
   "mimetype": "text/x-python",
   "name": "python",
   "nbconvert_exporter": "python",
   "pygments_lexer": "ipython2",
   "version": "2.7.6"
  }
 },
 "nbformat": 4,
 "nbformat_minor": 0
}
